{
 "cells": [
  {
   "cell_type": "code",
   "execution_count": 1,
   "id": "c68dfc4f-fd32-4b17-8c00-4cd858fcbe74",
   "metadata": {
    "tags": []
   },
   "outputs": [],
   "source": [
    "import pandas as pd\n",
    "import numpy as np"
   ]
  },
  {
   "cell_type": "code",
   "execution_count": 2,
   "id": "05b2affa-dea2-472e-b0ce-0be515c7fcc1",
   "metadata": {
    "tags": []
   },
   "outputs": [],
   "source": [
    "continentdf = pd.read_csv('../Dataset/Continent_Consumption_TWH.csv')"
   ]
  },
  {
   "cell_type": "code",
   "execution_count": 3,
   "id": "ca2fb06c-6c2d-4277-b3cc-f012c9d0d246",
   "metadata": {
    "tags": []
   },
   "outputs": [
    {
     "data": {
      "text/html": [
       "<div>\n",
       "<style scoped>\n",
       "    .dataframe tbody tr th:only-of-type {\n",
       "        vertical-align: middle;\n",
       "    }\n",
       "\n",
       "    .dataframe tbody tr th {\n",
       "        vertical-align: top;\n",
       "    }\n",
       "\n",
       "    .dataframe thead th {\n",
       "        text-align: right;\n",
       "    }\n",
       "</style>\n",
       "<table border=\"1\" class=\"dataframe\">\n",
       "  <thead>\n",
       "    <tr style=\"text-align: right;\">\n",
       "      <th></th>\n",
       "      <th>Year</th>\n",
       "      <th>World</th>\n",
       "      <th>OECD</th>\n",
       "      <th>BRICS</th>\n",
       "      <th>Europe</th>\n",
       "      <th>North America</th>\n",
       "      <th>Latin America</th>\n",
       "      <th>Asia</th>\n",
       "      <th>Pacific</th>\n",
       "      <th>Africa</th>\n",
       "      <th>Middle-East</th>\n",
       "      <th>CIS</th>\n",
       "    </tr>\n",
       "  </thead>\n",
       "  <tbody>\n",
       "    <tr>\n",
       "      <th>0</th>\n",
       "      <td>1990</td>\n",
       "      <td>101855.54</td>\n",
       "      <td>52602.49</td>\n",
       "      <td>26621.07</td>\n",
       "      <td>20654.88</td>\n",
       "      <td>24667.23</td>\n",
       "      <td>5373.06</td>\n",
       "      <td>24574.19</td>\n",
       "      <td>1197.89</td>\n",
       "      <td>4407.77</td>\n",
       "      <td>2581.86</td>\n",
       "      <td>16049.40</td>\n",
       "    </tr>\n",
       "    <tr>\n",
       "      <th>1</th>\n",
       "      <td>1991</td>\n",
       "      <td>102483.56</td>\n",
       "      <td>53207.25</td>\n",
       "      <td>26434.99</td>\n",
       "      <td>20631.62</td>\n",
       "      <td>24841.68</td>\n",
       "      <td>5500.99</td>\n",
       "      <td>24783.53</td>\n",
       "      <td>1186.26</td>\n",
       "      <td>4535.70</td>\n",
       "      <td>2744.68</td>\n",
       "      <td>15898.21</td>\n",
       "    </tr>\n",
       "    <tr>\n",
       "      <th>2</th>\n",
       "      <td>1992</td>\n",
       "      <td>102588.23</td>\n",
       "      <td>53788.75</td>\n",
       "      <td>25993.05</td>\n",
       "      <td>20189.68</td>\n",
       "      <td>25341.77</td>\n",
       "      <td>5628.92</td>\n",
       "      <td>25690.67</td>\n",
       "      <td>1209.52</td>\n",
       "      <td>4582.22</td>\n",
       "      <td>3081.95</td>\n",
       "      <td>14339.79</td>\n",
       "    </tr>\n",
       "    <tr>\n",
       "      <th>3</th>\n",
       "      <td>1993</td>\n",
       "      <td>103646.56</td>\n",
       "      <td>54614.48</td>\n",
       "      <td>26283.80</td>\n",
       "      <td>20189.68</td>\n",
       "      <td>25830.23</td>\n",
       "      <td>5675.44</td>\n",
       "      <td>26876.93</td>\n",
       "      <td>1267.67</td>\n",
       "      <td>4721.78</td>\n",
       "      <td>3349.44</td>\n",
       "      <td>13246.57</td>\n",
       "    </tr>\n",
       "    <tr>\n",
       "      <th>4</th>\n",
       "      <td>1994</td>\n",
       "      <td>104449.03</td>\n",
       "      <td>55579.77</td>\n",
       "      <td>25993.05</td>\n",
       "      <td>20085.01</td>\n",
       "      <td>26365.21</td>\n",
       "      <td>5989.45</td>\n",
       "      <td>28098.08</td>\n",
       "      <td>1279.30</td>\n",
       "      <td>4803.19</td>\n",
       "      <td>3640.19</td>\n",
       "      <td>11606.74</td>\n",
       "    </tr>\n",
       "  </tbody>\n",
       "</table>\n",
       "</div>"
      ],
      "text/plain": [
       "   Year      World      OECD     BRICS    Europe  North America  \\\n",
       "0  1990  101855.54  52602.49  26621.07  20654.88       24667.23   \n",
       "1  1991  102483.56  53207.25  26434.99  20631.62       24841.68   \n",
       "2  1992  102588.23  53788.75  25993.05  20189.68       25341.77   \n",
       "3  1993  103646.56  54614.48  26283.80  20189.68       25830.23   \n",
       "4  1994  104449.03  55579.77  25993.05  20085.01       26365.21   \n",
       "\n",
       "   Latin America      Asia  Pacific   Africa  Middle-East       CIS  \n",
       "0        5373.06  24574.19  1197.89  4407.77      2581.86  16049.40  \n",
       "1        5500.99  24783.53  1186.26  4535.70      2744.68  15898.21  \n",
       "2        5628.92  25690.67  1209.52  4582.22      3081.95  14339.79  \n",
       "3        5675.44  26876.93  1267.67  4721.78      3349.44  13246.57  \n",
       "4        5989.45  28098.08  1279.30  4803.19      3640.19  11606.74  "
      ]
     },
     "execution_count": 3,
     "metadata": {},
     "output_type": "execute_result"
    }
   ],
   "source": [
    "continentdf.head()"
   ]
  },
  {
   "cell_type": "code",
   "execution_count": 5,
   "id": "36799c26-c9d9-4ef4-831f-11eb91a65b2f",
   "metadata": {
    "tags": []
   },
   "outputs": [
    {
     "data": {
      "text/plain": [
       "(31, 12)"
      ]
     },
     "execution_count": 5,
     "metadata": {},
     "output_type": "execute_result"
    }
   ],
   "source": [
    "continentdf.shape"
   ]
  },
  {
   "cell_type": "code",
   "execution_count": 11,
   "id": "fd6f136d-cd6a-4787-8f66-8bd1c8e2c45a",
   "metadata": {
    "tags": []
   },
   "outputs": [
    {
     "name": "stdout",
     "output_type": "stream",
     "text": [
      "<class 'pandas.core.frame.DataFrame'>\n",
      "RangeIndex: 31 entries, 0 to 30\n",
      "Data columns (total 12 columns):\n",
      " #   Column         Non-Null Count  Dtype  \n",
      "---  ------         --------------  -----  \n",
      " 0   Year           31 non-null     int64  \n",
      " 1   World          31 non-null     float64\n",
      " 2   OECD           31 non-null     float64\n",
      " 3   BRICS          31 non-null     float64\n",
      " 4   Europe         31 non-null     float64\n",
      " 5   North America  31 non-null     float64\n",
      " 6   Latin America  31 non-null     float64\n",
      " 7   Asia           31 non-null     float64\n",
      " 8   Pacific        31 non-null     float64\n",
      " 9   Africa         31 non-null     float64\n",
      " 10  Middle-East    31 non-null     float64\n",
      " 11  CIS            31 non-null     float64\n",
      "dtypes: float64(11), int64(1)\n",
      "memory usage: 3.0 KB\n"
     ]
    }
   ],
   "source": [
    "continentdf.info()"
   ]
  },
  {
   "cell_type": "code",
   "execution_count": null,
   "id": "dcc0e70b-8c63-402b-8e32-47a642d9a2e5",
   "metadata": {},
   "outputs": [],
   "source": []
  }
 ],
 "metadata": {
  "kernelspec": {
   "display_name": "Python 3 (ipykernel)",
   "language": "python",
   "name": "python3"
  },
  "language_info": {
   "codemirror_mode": {
    "name": "ipython",
    "version": 3
   },
   "file_extension": ".py",
   "mimetype": "text/x-python",
   "name": "python",
   "nbconvert_exporter": "python",
   "pygments_lexer": "ipython3",
   "version": "3.11.5"
  }
 },
 "nbformat": 4,
 "nbformat_minor": 5
}
